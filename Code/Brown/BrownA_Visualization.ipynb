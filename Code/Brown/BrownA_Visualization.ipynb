{
 "cells": [
  {
   "cell_type": "code",
   "execution_count": null,
   "metadata": {},
   "outputs": [],
   "source": [
    "### Titanic Data\n",
    "\n",
    "import pandas as pd\n",
    "import numpy as np\n",
    "import matplotlib.pyplot as plt\n",
    "import seaborn as sns\n",
    "import os\n",
    "\n",
    "titanic = sns.load_dataset(\"titanic\")\n",
    "\n",
    "import warnings\n",
    "warnings.simplefilter(action='ignore', category=FutureWarning)\n",
    "\n",
    "### import necessary packages\n",
    "### load the Titanic dataset from seaborn"
   ]
  },
  {
   "cell_type": "code",
   "execution_count": null,
   "metadata": {
    "scrolled": true
   },
   "outputs": [],
   "source": [
    "### Titanic Data\n",
    "\n",
    "titanic.head(20)\n",
    "\n",
    "### showing 20 lines"
   ]
  },
  {
   "cell_type": "markdown",
   "metadata": {},
   "source": [
    "### survived: \n",
    "0 = No, 1 = Yes\n",
    "\n",
    "\n",
    "### pclass (Ticket class): \n",
    "1 = upper, 2 = middle, 3 = lower\n",
    "\n",
    "\n",
    "### sibsp (# of siblings (brother, sister, stepbrother, stepsister) / spouses (husband, wife) aboard the Titanic)\n",
    "\n",
    "\n",
    "\n",
    "### parch (# of parents / children aboard the Titanic): \n",
    "Parent = mother, father. \n",
    "\n",
    "Child = daughter, son, stepdaughter, stepson. \n",
    "\n",
    "Some children travelled only with a nanny, therefore parch=0 for them.\n",
    "\n",
    "\n",
    "### embarked (Port of Embarkation):\t\n",
    "C = Cherbourg, Q = Queenstown, S = Southampton"
   ]
  },
  {
   "cell_type": "code",
   "execution_count": null,
   "metadata": {},
   "outputs": [],
   "source": [
    "### Titanic Data\n",
    "\n",
    "titanic.info()\n",
    "\n",
    "### showing the columns & data types"
   ]
  },
  {
   "cell_type": "code",
   "execution_count": null,
   "metadata": {},
   "outputs": [],
   "source": [
    "### Titanic Data\n",
    "\n",
    "missing_values = titanic.isnull().sum()\n",
    "\n",
    "print(missing_values[missing_values > 0]) \n",
    "\n",
    "#### check for missing values"
   ]
  },
  {
   "cell_type": "code",
   "execution_count": null,
   "metadata": {
    "scrolled": true
   },
   "outputs": [],
   "source": [
    "### Titanic Data\n",
    "\n",
    "age_nulls = titanic[titanic['age'].isnull()]\n",
    "\n",
    "age_nulls.head(20)\n",
    "\n",
    "### filter rows where 'age' is null just to have an idea"
   ]
  },
  {
   "cell_type": "code",
   "execution_count": null,
   "metadata": {},
   "outputs": [],
   "source": [
    "## Good Visualizations \n",
    "\n",
    "plt.figure(figsize=(8,5))\n",
    "sns.histplot(data=titanic, x=\"pclass\", hue=\"sex\", multiple=\"stack\", palette=\"coolwarm\")\n",
    "plt.title(\"Passenger Class Breakdown by Gender\")\n",
    "plt.xlabel(\"Passenger Class\")\n",
    "plt.ylabel(\"Count\")\n",
    "plt.show()\n",
    "\n",
    "### Stacked Bar Chart: Gender vs. Passenger Class & Survival"
   ]
  },
  {
   "cell_type": "code",
   "execution_count": null,
   "metadata": {},
   "outputs": [],
   "source": [
    "## Good Visualizations \n",
    "\n",
    "plt.figure(figsize=(8,5))\n",
    "sns.boxplot(x=\"sex\", y=\"age\", hue=\"survived\", data=titanic, palette=\"Set2\")\n",
    "plt.title(\"Age Distribution by Gender & Survival\")\n",
    "plt.ylabel(\"Age\")\n",
    "plt.show()\n",
    "\n",
    "### Box Plot: Age Distribution by Gender & Survival"
   ]
  },
  {
   "cell_type": "code",
   "execution_count": null,
   "metadata": {},
   "outputs": [],
   "source": [
    "## Good Visualizations \n",
    "\n",
    "plt.figure(figsize=(8,5))\n",
    "sns.violinplot(x=\"sex\", y=\"fare\", hue=\"survived\", data=titanic, split=True, palette=\"pastel\")\n",
    "plt.title(\"Fare Distribution by Gender & Survival\")\n",
    "plt.ylabel(\"Fare\")\n",
    "plt.show()\n",
    "\n",
    "### Violin Plot: Fare Paid by Gender & Survival"
   ]
  },
  {
   "cell_type": "code",
   "execution_count": null,
   "metadata": {},
   "outputs": [],
   "source": [
    "## Bad Visualizations  \n",
    "\n",
    "plt.figure(figsize=(6,6))\n",
    "titanic.groupby(\"sex\")[\"survived\"].sum().plot(kind=\"pie\", autopct=\"%1.1f%%\", colors=[\"lightblue\", \"pink\"])\n",
    "plt.title(\"Survivor Gender Distribution (Pie Chart)\")\n",
    "plt.ylabel(\"\") \n",
    "plt.show()\n",
    "\n",
    "### Pie Chart: Gender Distribution of Survivors"
   ]
  },
  {
   "cell_type": "code",
   "execution_count": null,
   "metadata": {},
   "outputs": [],
   "source": [
    "## Bad Visualizations  \n",
    "\n",
    "fig = plt.figure(figsize=(8,6))\n",
    "ax = fig.add_subplot(111, projection=\"3d\")\n",
    "genders = [\"male\", \"female\"]\n",
    "survivals = titanic.groupby(\"sex\")[\"survived\"].mean()\n",
    "ax.bar(genders, survivals, color=[\"blue\", \"red\"])\n",
    "ax.set_xlabel(\"Gender\")\n",
    "ax.set_ylabel(\"Survival Rate\")\n",
    "ax.set_zlabel(\"3D Effect (Unnecessary)\")\n",
    "plt.title(\"Survival by Gender (3D - Bad)\")\n",
    "plt.show()\n",
    "\n",
    "### 3D Bar Chart: Survival by Gender"
   ]
  },
  {
   "cell_type": "code",
   "execution_count": null,
   "metadata": {},
   "outputs": [],
   "source": [
    "## Bad Visualizations  \n",
    "\n",
    "plt.figure(figsize=(8,5))\n",
    "sns.lineplot(x=\"sex\", y=\"survived\", data=titanic)\n",
    "plt.title(\"Survival Rate by Gender (Line Chart - Bad)\")\n",
    "plt.ylabel(\"Survival Rate\")\n",
    "plt.show()\n",
    "\n",
    "### Line Chart: Gender vs. Survival Rate"
   ]
  },
  {
   "cell_type": "code",
   "execution_count": null,
   "metadata": {},
   "outputs": [],
   "source": [
    "## Bad Visualizations  \n",
    "\n",
    "plt.figure(figsize=(8,5))\n",
    "sns.scatterplot(x=\"sex\", y=\"survived\", data=titanic)\n",
    "plt.title(\"Survival Rate by Gender (Scatter Plot - Bad)\")\n",
    "plt.ylabel(\"Survival Rate\")\n",
    "plt.show()\n",
    "\n",
    "### scatter Plot: Gender vs. Survival Rate"
   ]
  }
 ],
 "metadata": {
  "kernelspec": {
   "display_name": "Python 3 (ipykernel)",
   "language": "python",
   "name": "python3"
  },
  "language_info": {
   "codemirror_mode": {
    "name": "ipython",
    "version": 3
   },
   "file_extension": ".py",
   "mimetype": "text/x-python",
   "name": "python",
   "nbconvert_exporter": "python",
   "pygments_lexer": "ipython3",
   "version": "3.10.9"
  }
 },
 "nbformat": 4,
 "nbformat_minor": 4
}
